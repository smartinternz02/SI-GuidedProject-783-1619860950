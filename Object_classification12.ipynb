{
 "cells": [
  {
   "cell_type": "code",
   "execution_count": 4,
   "metadata": {},
   "outputs": [],
   "source": [
    "from tensorflow.keras.models import Sequential\n",
    "from tensorflow.keras.layers import Dense\n",
    "from tensorflow.keras.layers import Convolution2D\n",
    "from tensorflow.keras.layers import MaxPooling2D\n",
    "from tensorflow.keras.layers import Flatten"
   ]
  },
  {
   "cell_type": "code",
   "execution_count": 5,
   "metadata": {},
   "outputs": [],
   "source": [
    "from keras.preprocessing.image import ImageDataGenerator\n",
    "train_datagen=ImageDataGenerator(rescale=1./255,shear_range=0.2,zoom_range=0.2,horizontal_flip=True)\n",
    "test_datagen=ImageDataGenerator(rescale=1./255)\n"
   ]
  },
  {
   "cell_type": "code",
   "execution_count": 7,
   "metadata": {},
   "outputs": [
    {
     "name": "stdout",
     "output_type": "stream",
     "text": [
      "Found 210 images belonging to 3 classes.\n",
      "Found 90 images belonging to 3 classes.\n"
     ]
    }
   ],
   "source": [
    "x_train=train_datagen.flow_from_directory(r\"C:\\geethanjali externship\\trainset\",target_size=(64,64),batch_size=32,class_mode=\"categorical\")\n",
    "x_test=test_datagen.flow_from_directory(r\"C:\\geethanjali externship\\testset\",target_size=(64,64),batch_size=32,class_mode=\"categorical\")"
   ]
  },
  {
   "cell_type": "code",
   "execution_count": 8,
   "metadata": {},
   "outputs": [],
   "source": [
    "model = Sequential()\n"
   ]
  },
  {
   "cell_type": "code",
   "execution_count": 9,
   "metadata": {},
   "outputs": [],
   "source": [
    "model.add(Convolution2D(32,(3,3),input_shape=(64,64,3),activation=\"relu\"))"
   ]
  },
  {
   "cell_type": "code",
   "execution_count": 10,
   "metadata": {},
   "outputs": [],
   "source": [
    "model.add(MaxPooling2D(2,2))"
   ]
  },
  {
   "cell_type": "code",
   "execution_count": 11,
   "metadata": {},
   "outputs": [],
   "source": [
    "model.add(Flatten())\n"
   ]
  },
  {
   "cell_type": "code",
   "execution_count": 12,
   "metadata": {},
   "outputs": [],
   "source": [
    "model.add(Dense(units = 512,activation=\"relu\",kernel_initializer=\"random_uniform\"))"
   ]
  },
  {
   "cell_type": "code",
   "execution_count": 13,
   "metadata": {},
   "outputs": [],
   "source": [
    "model.add(Dense(units = 3,activation=\"softmax\",kernel_initializer=\"random_uniform\"))"
   ]
  },
  {
   "cell_type": "code",
   "execution_count": 14,
   "metadata": {},
   "outputs": [],
   "source": [
    "model.compile(\"sgd\",loss=\"categorical_crossentropy\",metrics=[\"accuracy\"])"
   ]
  },
  {
   "cell_type": "code",
   "execution_count": 15,
   "metadata": {},
   "outputs": [
    {
     "name": "stderr",
     "output_type": "stream",
     "text": [
      "C:\\Users\\Sai Sharan.LAPTOP-QHIJD70H\\Anaconda3\\lib\\site-packages\\tensorflow\\python\\keras\\engine\\training.py:1844: UserWarning: `Model.fit_generator` is deprecated and will be removed in a future version. Please use `Model.fit`, which supports generators.\n",
      "  warnings.warn('`Model.fit_generator` is deprecated and '\n"
     ]
    },
    {
     "name": "stdout",
     "output_type": "stream",
     "text": [
      "Epoch 1/25\n",
      "7/7 [==============================] - 5s 603ms/step - loss: 1.1652 - accuracy: 0.3423 - val_loss: 1.0394 - val_accuracy: 0.3889\n",
      "Epoch 2/25\n",
      "7/7 [==============================] - 3s 410ms/step - loss: 1.0257 - accuracy: 0.4263 - val_loss: 0.9393 - val_accuracy: 0.6000\n",
      "Epoch 3/25\n",
      "7/7 [==============================] - 3s 365ms/step - loss: 0.9395 - accuracy: 0.6164 - val_loss: 0.9377 - val_accuracy: 0.6000\n",
      "Epoch 4/25\n",
      "7/7 [==============================] - 3s 422ms/step - loss: 0.8929 - accuracy: 0.6143 - val_loss: 0.8398 - val_accuracy: 0.6778\n",
      "Epoch 5/25\n",
      "7/7 [==============================] - 3s 411ms/step - loss: 0.8847 - accuracy: 0.6425 - val_loss: 0.7651 - val_accuracy: 0.7444\n",
      "Epoch 6/25\n",
      "7/7 [==============================] - 3s 391ms/step - loss: 0.8111 - accuracy: 0.6968 - val_loss: 0.7667 - val_accuracy: 0.6778\n",
      "Epoch 7/25\n",
      "7/7 [==============================] - 3s 384ms/step - loss: 0.8022 - accuracy: 0.6468 - val_loss: 0.7001 - val_accuracy: 0.7222\n",
      "Epoch 8/25\n",
      "7/7 [==============================] - 3s 394ms/step - loss: 0.6921 - accuracy: 0.7197 - val_loss: 0.8002 - val_accuracy: 0.6000\n",
      "Epoch 9/25\n",
      "7/7 [==============================] - 3s 400ms/step - loss: 0.6896 - accuracy: 0.7061 - val_loss: 0.7331 - val_accuracy: 0.6556\n",
      "Epoch 10/25\n",
      "7/7 [==============================] - 3s 383ms/step - loss: 0.7254 - accuracy: 0.6443 - val_loss: 0.6999 - val_accuracy: 0.6556\n",
      "Epoch 11/25\n",
      "7/7 [==============================] - 3s 423ms/step - loss: 0.6553 - accuracy: 0.7300 - val_loss: 0.6193 - val_accuracy: 0.7444\n",
      "Epoch 12/25\n",
      "7/7 [==============================] - 3s 386ms/step - loss: 0.6331 - accuracy: 0.7600 - val_loss: 0.6127 - val_accuracy: 0.7778\n",
      "Epoch 13/25\n",
      "7/7 [==============================] - 3s 399ms/step - loss: 0.6096 - accuracy: 0.7656 - val_loss: 0.6568 - val_accuracy: 0.7000\n",
      "Epoch 14/25\n",
      "7/7 [==============================] - 3s 442ms/step - loss: 0.6466 - accuracy: 0.6939 - val_loss: 0.5648 - val_accuracy: 0.7778\n",
      "Epoch 15/25\n",
      "7/7 [==============================] - 3s 392ms/step - loss: 0.6137 - accuracy: 0.7364 - val_loss: 0.5860 - val_accuracy: 0.7556\n",
      "Epoch 16/25\n",
      "7/7 [==============================] - 3s 406ms/step - loss: 0.5536 - accuracy: 0.7835 - val_loss: 0.5536 - val_accuracy: 0.7778\n",
      "Epoch 17/25\n",
      "7/7 [==============================] - 3s 408ms/step - loss: 0.5302 - accuracy: 0.8205 - val_loss: 0.5903 - val_accuracy: 0.7889\n",
      "Epoch 18/25\n",
      "7/7 [==============================] - 3s 456ms/step - loss: 0.5049 - accuracy: 0.7883 - val_loss: 0.5470 - val_accuracy: 0.7889\n",
      "Epoch 19/25\n",
      "7/7 [==============================] - 3s 392ms/step - loss: 0.5163 - accuracy: 0.7836 - val_loss: 0.5865 - val_accuracy: 0.7111\n",
      "Epoch 20/25\n",
      "7/7 [==============================] - 3s 390ms/step - loss: 0.5187 - accuracy: 0.7713 - val_loss: 0.6325 - val_accuracy: 0.7000\n",
      "Epoch 21/25\n",
      "7/7 [==============================] - 3s 406ms/step - loss: 0.5874 - accuracy: 0.7340 - val_loss: 0.5213 - val_accuracy: 0.8222\n",
      "Epoch 22/25\n",
      "7/7 [==============================] - 3s 431ms/step - loss: 0.5110 - accuracy: 0.8011 - val_loss: 0.5139 - val_accuracy: 0.7889\n",
      "Epoch 23/25\n",
      "7/7 [==============================] - 3s 487ms/step - loss: 0.5731 - accuracy: 0.7450 - val_loss: 0.4950 - val_accuracy: 0.7778\n",
      "Epoch 24/25\n",
      "7/7 [==============================] - 3s 458ms/step - loss: 0.4519 - accuracy: 0.8251 - val_loss: 0.5445 - val_accuracy: 0.7556\n",
      "Epoch 25/25\n",
      "7/7 [==============================] - 3s 398ms/step - loss: 0.4897 - accuracy: 0.8079 - val_loss: 0.6728 - val_accuracy: 0.6778\n"
     ]
    },
    {
     "data": {
      "text/plain": [
       "<tensorflow.python.keras.callbacks.History at 0x1a54ff430f0>"
      ]
     },
     "execution_count": 15,
     "metadata": {},
     "output_type": "execute_result"
    }
   ],
   "source": [
    "model.fit_generator(x_train,steps_per_epoch=7,epochs=25,validation_data= x_test,validation_steps=3)"
   ]
  },
  {
   "cell_type": "code",
   "execution_count": 16,
   "metadata": {},
   "outputs": [],
   "source": [
    "model.save(\"project.h5\")"
   ]
  },
  {
   "cell_type": "code",
   "execution_count": null,
   "metadata": {},
   "outputs": [],
   "source": []
  }
 ],
 "metadata": {
  "kernelspec": {
   "display_name": "Python 3",
   "language": "python",
   "name": "python3"
  },
  "language_info": {
   "codemirror_mode": {
    "name": "ipython",
    "version": 3
   },
   "file_extension": ".py",
   "mimetype": "text/x-python",
   "name": "python",
   "nbconvert_exporter": "python",
   "pygments_lexer": "ipython3",
   "version": "3.7.3"
  }
 },
 "nbformat": 4,
 "nbformat_minor": 2
}
